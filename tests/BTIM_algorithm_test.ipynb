{
 "cells": [
  {
   "cell_type": "markdown",
   "id": "c7d2ea53-e8ae-4c24-84a3-f23ddc6aecb7",
   "metadata": {
    "tags": []
   },
   "source": [
    "**Instructions**: Run all cells and then print the variable 'out_string' to verify that tests passed."
   ]
  },
  {
   "cell_type": "code",
   "execution_count": 1,
   "id": "d580fb0a-8dbd-4b06-8293-32babc37f4bb",
   "metadata": {
    "editable": true,
    "slideshow": {
     "slide_type": ""
    },
    "tags": []
   },
   "outputs": [],
   "source": [
    "import sys\n",
    "import numpy as np\n",
    "\n",
    "sys.path.append('../')\n",
    "import utils\n",
    "from time_step import Brasnett"
   ]
  },
  {
   "cell_type": "markdown",
   "id": "a8bee35f-f6d8-4b1d-995c-2ed58cef1e7b",
   "metadata": {
    "editable": true,
    "slideshow": {
     "slide_type": ""
    },
    "tags": []
   },
   "source": [
    "This Jupyter Notebook contains the test of the B-TIM algorithm implementation. It goes through a set of possible values that test all the currently implemented processes in the B-TIM (Sept 2023). The names of these tests are listed in the table below.  "
   ]
  },
  {
   "cell_type": "markdown",
   "id": "79f4a78c-96b9-4135-8b2f-7a29d52c51be",
   "metadata": {},
   "source": [
    "|Test Name|Precipitation|Existing snowpack|Below Freezing?|Densification|\n",
    "|--|--|--|--|--|\n",
    "|(Control) Freeze|No|No|No|N/A|\n",
    "|(Control) Melt|No|No|Yes|N/A|\n",
    "|Dry Cold|No|Yes|Yes|Cold|\n",
    "|Dry Warm|No|Yes|Yes|Warm|\n",
    "|Dry Melt|No|Yes|No|N/A|\n",
    "|Snow Cold|Yes|No|Yes|Cold|\n",
    "|Snow Warm|Yes|No|Yes|Warm|\n",
    "|Rain no Snow|Yes|No|No|N/A|\n",
    "|Rain on Snow|Yes|Yes|No|Warm|\n",
    "|Snow on Snow Warm|Yes|Yes|Yes|Warm|\n",
    "|Snow on Snow Cold|Yes|Yes|Yes|Cold|\n",
    "\n"
   ]
  },
  {
   "cell_type": "code",
   "execution_count": 2,
   "id": "71d0202c-70e2-4cb9-adee-60fdf9a5b06a",
   "metadata": {
    "tags": []
   },
   "outputs": [],
   "source": [
    "class TestScenario:\n",
    "\n",
    "    def __init__(self, scenarioname, Tlist, Plist, Dlist, rholist):\n",
    "\n",
    "        self.name = scenarioname\n",
    "        self.T = np.array(Tlist)\n",
    "        self.P = np.array(Plist)\n",
    "        self.depth = np.array(Dlist)\n",
    "        self.density = np.array(rholist)\n",
    "\n",
    "ControlFreeze = TestScenario('ControlCold', [-1, -1], [0.], [0.], [200.])\n",
    "ControlMelt = TestScenario('ControlWarm', [1, 1], [0.], [0.], [200.])\n",
    "DryCold = TestScenario('DryCold', [-2, -2], [0.], [0.04], [300.])\n",
    "DryWarm = TestScenario('DryWarm', [-0.5, -0.5], [0.], [0.04], [300.])\n",
    "DryMelt = TestScenario('DryMelt', [0.5, 0.5], [0.], [0.04], [300.])\n",
    "SnowCold = TestScenario('SnowCold', [-2, -2], [0.001], [0.], [200.])\n",
    "SnowWarm = TestScenario('SnowWarm', [-0.5, -0.5], [0.001], [0.], [200.])\n",
    "RainNoSnow = TestScenario('RainNoSnow', [0.5, 0.5], [0.001], [0.], [200.])\n",
    "RainOnSnow = TestScenario('RainOnSnow', [0.5, 0.5], [0.001], [0.04], [300.])\n",
    "SnowOnSnowWarm = TestScenario('SnowOnSnowWarm', [-0.5, -0.5], [0.001], [0.04], [300.])\n",
    "SnowOnSnowCold = TestScenario('SnowOnSnowCold', [-2, -2], [0.001], [0.04], [300.])"
   ]
  },
  {
   "cell_type": "markdown",
   "id": "f12b9383-db31-4007-a827-4c8e84b2c2dd",
   "metadata": {},
   "source": [
    "We test the implemented algorithm against a simple transcription of the model as described in Elias Chereque et al. (2023)"
   ]
  },
  {
   "cell_type": "code",
   "execution_count": 3,
   "id": "84c58133-684c-47d4-9ee2-e04acb14bd06",
   "metadata": {
    "tags": []
   },
   "outputs": [],
   "source": [
    "def test(T, P, depth, density):\n",
    "\n",
    "    for i in range(2):\n",
    "    \n",
    "        precip = np.atleast_1d(0.8 * P[0])\n",
    "        density = np.atleast_1d(np.maximum(200., np.minimum(550., density[0]))) #[kg/m^3]\n",
    "    \n",
    "        print('hour step init (T, P, rho, D):', T[i], precip, density[0], depth[0])\n",
    "\n",
    "        if i == 0:\n",
    "            gamma = np.minimum(5.5, np.maximum(0.1, (9.8e-3 * density) - 2.39))\n",
    "            print('DENSITY, GAMMA, GAMMA/24:', density, gamma, gamma/24)\n",
    "            \n",
    "        if T[i] < 0:\n",
    "            \n",
    "            rho_new = np.atleast_1d(67.9 + 51.3*np.exp(np.atleast_1d(T[i]) / 2.6))  \n",
    "            swefall = 1000 * precip/2\n",
    "    \n",
    "            swe_i = np.atleast_1d(depth[0]*density[0])\n",
    "\n",
    "            if swe_i + swefall == 0:\n",
    "                rho_star = np.atleast_1d(density[0])\n",
    "                D_star = 0\n",
    "\n",
    "            else:\n",
    "                rho_star = (rho_new*swefall + np.atleast_1d(density[0])*swe_i)/(swe_i + swefall)\n",
    "                #rho_star = (swefall + swe_i)/(depth[0] + swefall/rho_new)\n",
    "        \n",
    "                rho_star = np.atleast_1d(np.maximum(200., np.minimum(550., rho_star)))\n",
    "                D_star = np.atleast_1d((swe_i+swefall)/rho_star)\n",
    "            \n",
    "        else:\n",
    "            D_star = np.atleast_1d(depth[0])\n",
    "            rho_star =  np.atleast_1d(density[0])\n",
    "    \n",
    "        print('New rho and D:', rho_star, D_star)\n",
    "\n",
    "        delta_dm = -(T[0] - (-1)) * ((gamma/24)/rho_star) if T[0] > -1 else np.zeros_like(rho_star)\n",
    "        delta_dm = np.atleast_1d(delta_dm)\n",
    "        \n",
    "        rhow = 1000 #[kg/m^3], density of water\n",
    "        Cw = 4.18e3 #[J], specific heat of water\n",
    "        rhoice = 917 #[kg/m^3], density of ice\n",
    "        Lf = 0.334e6 #[J/kg], latent heat of fusion of water\n",
    "        \n",
    "        delta_dr = -(precip)*1000*Cw*(np.atleast_1d(T[0]))/(Lf*rho_star) if T[0] > 0 else np.zeros_like(rho_star)\n",
    "        delta_dr = np.atleast_1d(delta_dr)\n",
    "        \n",
    "        print('Delta rain melt:', delta_dr)\n",
    "        print('DENSITY, GAMMA:', rho_star, gamma/24)\n",
    "        print('Delta melt:', delta_dm)\n",
    "    \n",
    "        D_star_star = np.atleast_1d(D_star + delta_dm/2 + delta_dr/2)\n",
    "    \n",
    "        D_star_star = D_star_star if D_star_star >= 0 else np.zeros_like(D_star_star)\n",
    "    \n",
    "        print('Dstarstar:', D_star_star)\n",
    "        C1 = 2.\n",
    "        C2 = 0.021\n",
    "        C3 = 0.08\n",
    "        B1 = 0.6\n",
    "        \n",
    "        Wmax = 700.\n",
    "        W1 = 204.70\n",
    "        W2 = 0.6730\n",
    "        \n",
    "        a = 2.778e-6\n",
    "        \n",
    "        if T[0] < -1:\n",
    "            delta_rhod = C1*(B1 * (rho_star*D_star_star) * np.exp(C3*(T[0]-(-1))) * np.exp(-C2 * rho_star))/2 \n",
    "        \n",
    "        else:\n",
    "            if D_star_star != 0:\n",
    "                rhomax = Wmax - (W1/D_star_star)*(1-np.exp(-D_star_star/W2))\n",
    "                if rhomax - rho_star > 0.1:\n",
    "                    delta_rhod = (rhomax-rho_star)*(1-np.exp(-a*3600/2))\n",
    "                else:\n",
    "                    delta_rhod = 0.\n",
    "            else:\n",
    "                delta_rhod = 0.\n",
    "    \n",
    "        delta_rhod = np.atleast_1d(delta_rhod)\n",
    "    \n",
    "        print('Del rho, densification', delta_rhod)\n",
    "        \n",
    "        density = np.atleast_1d(rho_star + delta_rhod)\n",
    "        \n",
    "        density = np.where(density > 550., 550., density)\n",
    "        density = np.where(density < 200., 200., density)\n",
    "    \n",
    "        depth = np.atleast_1d(D_star_star * (rho_star/density))\n",
    "    \n",
    "        print('Hour end rho, D:', density, depth)\n",
    "\n",
    "    return depth, density\n"
   ]
  },
  {
   "cell_type": "markdown",
   "id": "c153d1c1-c3ec-4861-a362-38d705628919",
   "metadata": {},
   "source": [
    "# Test: Control Freeze and Melt"
   ]
  },
  {
   "cell_type": "code",
   "execution_count": 4,
   "id": "8de362f0-6bfc-4206-91ed-7127182afb90",
   "metadata": {
    "tags": []
   },
   "outputs": [
    {
     "name": "stdout",
     "output_type": "stream",
     "text": [
      "BRASNETT WITH DEBUGGING OUTPUT\n",
      "\n",
      "hour step init (T, P, rho, D): [-1] [0.] [200.] [0.]\n",
      "New rho and D: [200.] [0.]\n",
      "Delta rain melt: [-0.]\n",
      "DENSITY, GAMMA: [200.] [0.00416667]\n",
      "Delta melt: [-0.]\n",
      "Dstarstar: [0.]\n",
      "Del rho, densification [0.]\n",
      "Hour end rho, D: [200.] [0.]\n",
      "hour step init (T, P, rho, D): [-1] [0.] [200.] [0.]\n",
      "New rho and D: [200.] [0.]\n",
      "Delta rain melt: [-0.]\n",
      "DENSITY, GAMMA: [200.] [0.00416667]\n",
      "Delta melt: [-0.]\n",
      "Dstarstar: [0.]\n",
      "Del rho, densification [0.]\n",
      "Hour end rho, D: [200.] [0.]\n",
      "\n",
      "TEST WITH DEBUGGING OUTPUT\n",
      "\n",
      "hour step init (T, P, rho, D): -1 [0.] 200.0 0.0\n",
      "DENSITY, GAMMA, GAMMA/24: [200.] [0.1] [0.00416667]\n",
      "New rho and D: [200.] 0\n",
      "Delta rain melt: [0.]\n",
      "DENSITY, GAMMA: [200.] [0.00416667]\n",
      "Delta melt: [0.]\n",
      "Dstarstar: [0.]\n",
      "Del rho, densification [0.]\n",
      "Hour end rho, D: [200.] [0.]\n",
      "hour step init (T, P, rho, D): -1 [0.] 200.0 0.0\n",
      "New rho and D: [200.] 0\n",
      "Delta rain melt: [0.]\n",
      "DENSITY, GAMMA: [200.] [0.00416667]\n",
      "Delta melt: [0.]\n",
      "Dstarstar: [0.]\n",
      "Del rho, densification [0.]\n",
      "Hour end rho, D: [200.] [0.]\n"
     ]
    }
   ],
   "source": [
    "T, P, depth, density = ControlFreeze.T, ControlFreeze.P, ControlFreeze.depth, ControlFreeze.density \n",
    "\n",
    "print('BRASNETT WITH DEBUGGING OUTPUT\\n')\n",
    "depth, density, swe = Brasnett([0,0], T, P, depth, density, debug_mode=True)\n",
    "\n",
    "print('\\nTEST WITH DEBUGGING OUTPUT\\n')\n",
    "test_depth, test_density = test(ControlFreeze.T, ControlFreeze.P, ControlFreeze.depth, ControlFreeze.density)\n",
    "\n",
    "assert abs(depth - test_depth) < 1e-15\n",
    "assert abs(density - test_density) < 1e-15\n",
    "\n",
    "out_string = 'ControlFreeze TEST OK'"
   ]
  },
  {
   "cell_type": "code",
   "execution_count": 5,
   "id": "f4700b61-2203-4b37-9e3c-1ad4607cdf50",
   "metadata": {
    "tags": []
   },
   "outputs": [
    {
     "name": "stdout",
     "output_type": "stream",
     "text": [
      "BRASNETT WITH DEBUGGING OUTPUT\n",
      "\n",
      "\n",
      "TEST WITH DEBUGGING OUTPUT\n",
      "\n",
      "hour step init (T, P, rho, D): 1 [0.] 200.0 0.0\n",
      "DENSITY, GAMMA, GAMMA/24: [200.] [0.1] [0.00416667]\n",
      "New rho and D: [200.] [0.]\n",
      "Delta rain melt: [-0.]\n",
      "DENSITY, GAMMA: [200.] [0.00416667]\n",
      "Delta melt: [-4.16666667e-05]\n",
      "Dstarstar: [0.]\n",
      "Del rho, densification [0.]\n",
      "Hour end rho, D: [200.] [0.]\n",
      "hour step init (T, P, rho, D): 1 [0.] 200.0 0.0\n",
      "New rho and D: [200.] [0.]\n",
      "Delta rain melt: [-0.]\n",
      "DENSITY, GAMMA: [200.] [0.00416667]\n",
      "Delta melt: [-4.16666667e-05]\n",
      "Dstarstar: [0.]\n",
      "Del rho, densification [0.]\n",
      "Hour end rho, D: [200.] [0.]\n"
     ]
    }
   ],
   "source": [
    "T, P, depth, density = ControlMelt.T, ControlMelt.P, ControlMelt.depth, ControlMelt.density \n",
    "\n",
    "print('BRASNETT WITH DEBUGGING OUTPUT\\n')\n",
    "depth, density, swe = Brasnett([0,0], T, P, depth, density)\n",
    "\n",
    "print('\\nTEST WITH DEBUGGING OUTPUT\\n')\n",
    "test_depth, test_density = test(ControlMelt.T, ControlMelt.P, ControlMelt.depth, ControlMelt.density)\n",
    "\n",
    "assert abs(depth - test_depth) < 1e-15\n",
    "assert abs(density - test_density) < 1e-15\n",
    "\n",
    "out_string += '\\nControlMelt TEST OK'"
   ]
  },
  {
   "cell_type": "markdown",
   "id": "824e6f1d-cb2c-409a-8b5a-d4410bde7474",
   "metadata": {},
   "source": [
    "# Test: Dry Cold"
   ]
  },
  {
   "cell_type": "code",
   "execution_count": 6,
   "id": "8352830b-f447-49dc-b5f1-61f388657d3c",
   "metadata": {
    "tags": []
   },
   "outputs": [
    {
     "name": "stdout",
     "output_type": "stream",
     "text": [
      "BRASNETT WITH DEBUGGING OUTPUT\n",
      "\n",
      "\n",
      "TEST WITH DEBUGGING OUTPUT\n",
      "\n",
      "hour step init (T, P, rho, D): -2 [0.] 300.0 0.04\n",
      "DENSITY, GAMMA, GAMMA/24: [300.] [0.55] [0.02291667]\n",
      "New rho and D: [300.] [0.04]\n",
      "Delta rain melt: [0.]\n",
      "DENSITY, GAMMA: [300.] [0.02291667]\n",
      "Delta melt: [0.]\n",
      "Dstarstar: [0.04]\n",
      "Del rho, densification [0.01220489]\n",
      "Hour end rho, D: [300.01220489] [0.03999837]\n",
      "hour step init (T, P, rho, D): -2 [0.] 300.0122048852877 0.03999837274816305\n",
      "New rho and D: [300.01220489] [0.03999837]\n",
      "Delta rain melt: [0.]\n",
      "DENSITY, GAMMA: [300.01220489] [0.02291667]\n",
      "Delta melt: [0.]\n",
      "Dstarstar: [0.03999837]\n",
      "Del rho, densification [0.01220176]\n",
      "Hour end rho, D: [300.02440664] [0.03999675]\n"
     ]
    }
   ],
   "source": [
    "T, P, depth, density = DryCold.T, DryCold.P, DryCold.depth, DryCold.density \n",
    "\n",
    "print('BRASNETT WITH DEBUGGING OUTPUT\\n')\n",
    "depth, density, swe = Brasnett([0,0], T, P, depth, density)\n",
    "\n",
    "print('\\nTEST WITH DEBUGGING OUTPUT\\n')\n",
    "test_depth, test_density = test(DryCold.T, DryCold.P, DryCold.depth, DryCold.density)\n",
    "\n",
    "assert abs(depth - test_depth) < 1e-15\n",
    "assert abs(density - test_density) < 1e-15\n",
    "\n",
    "out_string += '\\nDryCold TEST OK'"
   ]
  },
  {
   "cell_type": "markdown",
   "id": "7ea2138e-0e1b-416a-a112-7fae887ed5a1",
   "metadata": {},
   "source": [
    "# Test: Dry Warm"
   ]
  },
  {
   "cell_type": "code",
   "execution_count": 7,
   "id": "789c2ab0-d8b8-47d2-b422-a5471fc157de",
   "metadata": {
    "tags": []
   },
   "outputs": [
    {
     "name": "stdout",
     "output_type": "stream",
     "text": [
      "BRASNETT WITH DEBUGGING OUTPUT\n",
      "\n",
      "\n",
      "TEST WITH DEBUGGING OUTPUT\n",
      "\n",
      "hour step init (T, P, rho, D): -0.5 [0.] 300.0 0.04\n",
      "DENSITY, GAMMA, GAMMA/24: [300.] [0.55] [0.02291667]\n",
      "New rho and D: [300.] [0.04]\n",
      "Delta rain melt: [0.]\n",
      "DENSITY, GAMMA: [300.] [0.02291667]\n",
      "Delta melt: [-3.81944444e-05]\n",
      "Dstarstar: [0.0399809]\n",
      "Del rho, densification [0.52222449]\n",
      "Hour end rho, D: [300.52222449] [0.03991143]\n",
      "hour step init (T, P, rho, D): -0.5 [0.] 300.5222244876683 0.03991142702933609\n",
      "New rho and D: [300.52222449] [0.03991143]\n",
      "Delta rain melt: [0.]\n",
      "DENSITY, GAMMA: [300.52222449] [0.02291667]\n",
      "Delta melt: [-3.81280731e-05]\n",
      "Dstarstar: [0.03989236]\n",
      "Del rho, densification [0.51952374]\n",
      "Hour end rho, D: [301.04174823] [0.03982352]\n"
     ]
    }
   ],
   "source": [
    "T, P, depth, density = DryWarm.T, DryWarm.P, DryWarm.depth, DryWarm.density \n",
    "\n",
    "print('BRASNETT WITH DEBUGGING OUTPUT\\n')\n",
    "depth, density, swe = Brasnett([0,0], T, P, depth, density)\n",
    "\n",
    "print('\\nTEST WITH DEBUGGING OUTPUT\\n')\n",
    "test_depth, test_density = test(DryWarm.T, DryWarm.P, DryWarm.depth, DryWarm.density)\n",
    "\n",
    "assert abs(depth - test_depth) < 1e-15\n",
    "assert abs(density - test_density) < 1e-15\n",
    "\n",
    "out_string += '\\nDryWarm TEST OK'"
   ]
  },
  {
   "cell_type": "markdown",
   "id": "3cdaff5e-634c-46df-8673-890c357da256",
   "metadata": {},
   "source": [
    "# Test: Dry Melt"
   ]
  },
  {
   "cell_type": "code",
   "execution_count": 8,
   "id": "5cbb0685-2d8b-4cb8-a686-06708590e1f2",
   "metadata": {
    "tags": []
   },
   "outputs": [
    {
     "name": "stdout",
     "output_type": "stream",
     "text": [
      "BRASNETT WITH DEBUGGING OUTPUT\n",
      "\n",
      "\n",
      "TEST WITH DEBUGGING OUTPUT\n",
      "\n",
      "hour step init (T, P, rho, D): 0.5 [0.] 300.0 0.04\n",
      "DENSITY, GAMMA, GAMMA/24: [300.] [0.55] [0.02291667]\n",
      "New rho and D: [300.] [0.04]\n",
      "Delta rain melt: [-0.]\n",
      "DENSITY, GAMMA: [300.] [0.02291667]\n",
      "Delta melt: [-0.00011458]\n",
      "Dstarstar: [0.03994271]\n",
      "Del rho, densification [0.5221831]\n",
      "Hour end rho, D: [300.5221831] [0.0398733]\n",
      "hour step init (T, P, rho, D): 0.5 [0.] 300.5221831040873 0.03987330444704541\n",
      "New rho and D: [300.5221831] [0.0398733]\n",
      "Delta rain melt: [-0.]\n",
      "DENSITY, GAMMA: [300.5221831] [0.02291667]\n",
      "Delta melt: [-0.00011438]\n",
      "Dstarstar: [0.03981611]\n",
      "Del rho, densification [0.51944132]\n",
      "Hour end rho, D: [301.04162442] [0.03974741]\n"
     ]
    }
   ],
   "source": [
    "T, P, depth, density = DryMelt.T, DryMelt.P, DryMelt.depth, DryMelt.density \n",
    "\n",
    "print('BRASNETT WITH DEBUGGING OUTPUT\\n')\n",
    "depth, density, swe = Brasnett([0,0], T, P, depth, density)\n",
    "\n",
    "print('\\nTEST WITH DEBUGGING OUTPUT\\n')\n",
    "test_depth, test_density = test(DryMelt.T, DryMelt.P, DryMelt.depth, DryMelt.density)\n",
    "\n",
    "assert abs(depth - test_depth) < 1e-15\n",
    "assert abs(density - test_density) < 1e-15\n",
    "\n",
    "out_string += '\\nDryMelt TEST OK'"
   ]
  },
  {
   "cell_type": "markdown",
   "id": "e59c4412-6cc7-454e-89bb-374c226a4bed",
   "metadata": {},
   "source": [
    "# Test: Snow Cold"
   ]
  },
  {
   "cell_type": "code",
   "execution_count": 9,
   "id": "7b71eeea-c69b-4481-8ba3-06bae8d1ec56",
   "metadata": {
    "tags": []
   },
   "outputs": [
    {
     "name": "stdout",
     "output_type": "stream",
     "text": [
      "2: [0.]\n",
      "\n",
      "TEST WITH DEBUGGING OUTPUT\n",
      "\n",
      "hour step init (T, P, rho, D): -2 [0.0008] 200.0 0.0\n",
      "DENSITY, GAMMA, GAMMA/24: [200.] [0.1] [0.00416667]\n",
      "New rho and D: [200.] [0.002]\n",
      "Delta rain melt: [0.]\n",
      "DENSITY, GAMMA: [200.] [0.00416667]\n",
      "Delta melt: [0.]\n",
      "Dstarstar: [0.002]\n",
      "Del rho, densification [0.00332224]\n",
      "Hour end rho, D: [200.00332224] [0.00199997]\n",
      "hour step init (T, P, rho, D): -2 [0.0008] 200.00332223890075 0.001999966778162847\n",
      "New rho and D: [200.] [0.004]\n",
      "Delta rain melt: [0.]\n",
      "DENSITY, GAMMA: [200.] [0.00416667]\n",
      "Delta melt: [0.]\n",
      "Dstarstar: [0.004]\n",
      "Del rho, densification [0.00664448]\n",
      "Hour end rho, D: [200.00664448] [0.00399987]\n",
      "1: [0.]\n",
      "BRASNETT WITH DEBUGGING OUTPUT\n",
      "\n"
     ]
    }
   ],
   "source": [
    "SnowCold = TestScenario('SnowCold', [-2, -2], [0.001], [0.], [200.])\n",
    "\n",
    "print('2:', SnowCold.depth)\n",
    "\n",
    "print('\\nTEST WITH DEBUGGING OUTPUT\\n')\n",
    "test_depth, test_density = test(SnowCold.T, SnowCold.P, SnowCold.depth, SnowCold.density)\n",
    "\n",
    "T, P, depth, density = SnowCold.T, SnowCold.P, SnowCold.depth, SnowCold.density \n",
    "\n",
    "print('1:', depth)\n",
    "\n",
    "print('BRASNETT WITH DEBUGGING OUTPUT\\n')\n",
    "depth, density, swe = Brasnett([0,0], T, P, depth, density)\n",
    "\n",
    "assert abs(depth - test_depth) < 1e-15\n",
    "assert abs(density - test_density) < 1e-15\n",
    "\n",
    "out_string += '\\nSnowCold TEST OK'"
   ]
  },
  {
   "cell_type": "markdown",
   "id": "64753bb9-4629-4a1c-9daf-fd173d5047d3",
   "metadata": {},
   "source": [
    "# Test: Snow Warm"
   ]
  },
  {
   "cell_type": "code",
   "execution_count": 10,
   "id": "d23d444b-0d20-4c6c-8c41-16546d371ab1",
   "metadata": {
    "tags": []
   },
   "outputs": [
    {
     "name": "stdout",
     "output_type": "stream",
     "text": [
      "\n",
      "TEST WITH DEBUGGING OUTPUT\n",
      "\n",
      "hour step init (T, P, rho, D): -0.5 [0.0008] 200.0 0.0\n",
      "DENSITY, GAMMA, GAMMA/24: [200.] [0.1] [0.00416667]\n",
      "New rho and D: [200.] [0.002]\n",
      "Delta rain melt: [0.]\n",
      "DENSITY, GAMMA: [200.] [0.00416667]\n",
      "Delta melt: [-1.04166667e-05]\n",
      "Dstarstar: [0.00199479]\n",
      "Del rho, densification [0.97907783]\n",
      "Hour end rho, D: [200.97907783] [0.00198507]\n",
      "hour step init (T, P, rho, D): -0.5 [0.0008] 200.9790778342193 0.0019850739571131894\n",
      "New rho and D: [200.] [0.00399479]\n",
      "Delta rain melt: [0.]\n",
      "DENSITY, GAMMA: [200.] [0.00416667]\n",
      "Delta melt: [-1.04166667e-05]\n",
      "Dstarstar: [0.00398958]\n",
      "Del rho, densification [0.98131959]\n",
      "Hour end rho, D: [200.98131959] [0.0039701]\n",
      "BRASNETT WITH DEBUGGING OUTPUT\n",
      "\n"
     ]
    }
   ],
   "source": [
    "print('\\nTEST WITH DEBUGGING OUTPUT\\n')\n",
    "test_depth, test_density = test(SnowWarm.T, SnowWarm.P, SnowWarm.depth, SnowWarm.density)\n",
    "\n",
    "T, P, depth, density = SnowWarm.T, SnowWarm.P, SnowWarm.depth, SnowWarm.density \n",
    "\n",
    "print('BRASNETT WITH DEBUGGING OUTPUT\\n')\n",
    "depth, density, swe = Brasnett([0,0], T, P, depth, density)\n",
    "\n",
    "assert abs(depth - test_depth) < 1e-15\n",
    "assert abs(density - test_density) < 1e-15\n",
    "\n",
    "out_string += '\\nSnowWarm TEST OK'"
   ]
  },
  {
   "cell_type": "markdown",
   "id": "c58d0655-7e36-4c38-89a1-773404565ffd",
   "metadata": {},
   "source": [
    "# Test: Rain No Snow"
   ]
  },
  {
   "cell_type": "code",
   "execution_count": 11,
   "id": "a55d7702-e302-4751-8bf9-b48184fbdfe8",
   "metadata": {
    "tags": []
   },
   "outputs": [
    {
     "name": "stdout",
     "output_type": "stream",
     "text": [
      "\n",
      "TEST WITH DEBUGGING OUTPUT\n",
      "\n",
      "hour step init (T, P, rho, D): 0.5 [0.0008] 200.0 0.0\n",
      "DENSITY, GAMMA, GAMMA/24: [200.] [0.1] [0.00416667]\n",
      "New rho and D: [200.] [0.]\n",
      "Delta rain melt: [-2.50299401e-05]\n",
      "DENSITY, GAMMA: [200.] [0.00416667]\n",
      "Delta melt: [-3.125e-05]\n",
      "Dstarstar: [0.]\n",
      "Del rho, densification [0.]\n",
      "Hour end rho, D: [200.] [0.]\n",
      "hour step init (T, P, rho, D): 0.5 [0.0008] 200.0 0.0\n",
      "New rho and D: [200.] [0.]\n",
      "Delta rain melt: [-2.50299401e-05]\n",
      "DENSITY, GAMMA: [200.] [0.00416667]\n",
      "Delta melt: [-3.125e-05]\n",
      "Dstarstar: [0.]\n",
      "Del rho, densification [0.]\n",
      "Hour end rho, D: [200.] [0.]\n",
      "BRASNETT WITH DEBUGGING OUTPUT\n",
      "\n"
     ]
    }
   ],
   "source": [
    "print('\\nTEST WITH DEBUGGING OUTPUT\\n')\n",
    "test_depth, test_density = test(RainNoSnow.T, RainNoSnow.P, RainNoSnow.depth, RainNoSnow.density)\n",
    "\n",
    "T, P, depth, density = RainNoSnow.T, RainNoSnow.P, RainNoSnow.depth, RainNoSnow.density \n",
    "\n",
    "print('BRASNETT WITH DEBUGGING OUTPUT\\n')\n",
    "depth, density, swe = Brasnett([0,0], T, P, depth, density)\n",
    "\n",
    "assert abs(depth - test_depth) < 1e-15\n",
    "assert abs(density - test_density) < 1e-15\n",
    "\n",
    "out_string += '\\nRainNoSnow TEST OK'"
   ]
  },
  {
   "cell_type": "markdown",
   "id": "62e7a42a-0033-426e-8e42-da1c77eda886",
   "metadata": {},
   "source": [
    "# Test: Rain On Snow"
   ]
  },
  {
   "cell_type": "code",
   "execution_count": 12,
   "id": "0b9956f1-95c2-437c-9c35-25d0cd634e27",
   "metadata": {
    "tags": []
   },
   "outputs": [
    {
     "name": "stdout",
     "output_type": "stream",
     "text": [
      "\n",
      "TEST WITH DEBUGGING OUTPUT\n",
      "\n",
      "hour step init (T, P, rho, D): 0.5 [0.0008] 300.0 0.04\n",
      "DENSITY, GAMMA, GAMMA/24: [300.] [0.55] [0.02291667]\n",
      "New rho and D: [300.] [0.04]\n",
      "Delta rain melt: [-1.66866267e-05]\n",
      "DENSITY, GAMMA: [300.] [0.02291667]\n",
      "Delta melt: [-0.00011458]\n",
      "Dstarstar: [0.03993437]\n",
      "Del rho, densification [0.52217406]\n",
      "Hour end rho, D: [300.52217406] [0.03986498]\n",
      "hour step init (T, P, rho, D): 0.5 [0.0008] 300.5221740639216 0.03986497683009504\n",
      "New rho and D: [300.52217406] [0.03986498]\n",
      "Delta rain melt: [-1.66576328e-05]\n",
      "DENSITY, GAMMA: [300.52217406] [0.02291667]\n",
      "Delta melt: [-0.00011438]\n",
      "Dstarstar: [0.03979946]\n",
      "Del rho, densification [0.51942331]\n",
      "Hour end rho, D: [301.04159738] [0.03973079]\n",
      "BRASNETT WITH DEBUGGING OUTPUT\n",
      "\n"
     ]
    }
   ],
   "source": [
    "print('\\nTEST WITH DEBUGGING OUTPUT\\n')\n",
    "test_depth, test_density = test(RainOnSnow.T, RainOnSnow.P, RainOnSnow.depth, RainOnSnow.density)\n",
    "\n",
    "T, P, depth, density = RainOnSnow.T, RainOnSnow.P, RainOnSnow.depth, RainOnSnow.density \n",
    "\n",
    "print('BRASNETT WITH DEBUGGING OUTPUT\\n')\n",
    "depth, density, swe = Brasnett([0,0], T, P, depth, density)\n",
    "\n",
    "assert abs(depth - test_depth) < 1e-15\n",
    "assert abs(density - test_density) < 1e-15\n",
    "\n",
    "out_string += '\\nRainOnSnow TEST OK'"
   ]
  },
  {
   "cell_type": "markdown",
   "id": "0749cb33-2221-4b14-a8c7-95c12a207a81",
   "metadata": {},
   "source": [
    "# Test: Snow on Snow Warm"
   ]
  },
  {
   "cell_type": "code",
   "execution_count": 13,
   "id": "19353c33-5fb2-44f5-bfb0-412d8425c3a8",
   "metadata": {
    "tags": []
   },
   "outputs": [
    {
     "name": "stdout",
     "output_type": "stream",
     "text": [
      "\n",
      "TEST WITH DEBUGGING OUTPUT\n",
      "\n",
      "hour step init (T, P, rho, D): -0.5 [0.0008] 300.0 0.04\n",
      "DENSITY, GAMMA, GAMMA/24: [300.] [0.55] [0.02291667]\n",
      "New rho and D: [293.87823281] [0.04219435]\n",
      "Delta rain melt: [0.]\n",
      "DENSITY, GAMMA: [293.87823281] [0.02291667]\n",
      "Delta melt: [-3.89900716e-05]\n",
      "Dstarstar: [0.04217485]\n",
      "Del rho, densification [0.55513389]\n",
      "Hour end rho, D: [294.4333667] [0.04209533]\n",
      "hour step init (T, P, rho, D): -0.5 [0.0008] 294.43336670334014 0.0420953337324072\n",
      "New rho and D: [288.67428432] [0.04432078]\n",
      "Delta rain melt: [0.]\n",
      "DENSITY, GAMMA: [288.67428432] [0.02291667]\n",
      "Delta melt: [-3.96929479e-05]\n",
      "Dstarstar: [0.04430094]\n",
      "Del rho, densification [0.58338695]\n",
      "Hour end rho, D: [289.25767126] [0.04421159]\n",
      "BRASNETT WITH DEBUGGING OUTPUT\n",
      "\n"
     ]
    }
   ],
   "source": [
    "print('\\nTEST WITH DEBUGGING OUTPUT\\n')\n",
    "test_depth, test_density = test(SnowOnSnowWarm.T, SnowOnSnowWarm.P, SnowOnSnowWarm.depth, SnowOnSnowWarm.density)\n",
    "\n",
    "T, P, depth, density = SnowOnSnowWarm.T, SnowOnSnowWarm.P, SnowOnSnowWarm.depth, SnowOnSnowWarm.density \n",
    "\n",
    "print('BRASNETT WITH DEBUGGING OUTPUT\\n')\n",
    "depth, density, swe = Brasnett([0,0], T, P, depth, density)\n",
    "\n",
    "assert abs(depth - test_depth) < 1e-15\n",
    "assert abs(density - test_density) < 1e-15\n",
    "\n",
    "out_string += '\\nSnowOnSnowWarm TEST OK'"
   ]
  },
  {
   "cell_type": "markdown",
   "id": "a911f730-68c2-4068-91ac-609c8f489bcd",
   "metadata": {},
   "source": [
    "# Test: Snow on Snow Cold"
   ]
  },
  {
   "cell_type": "code",
   "execution_count": 14,
   "id": "bd2044e5-fcec-464e-8759-3e929cd6ec62",
   "metadata": {
    "tags": []
   },
   "outputs": [
    {
     "name": "stdout",
     "output_type": "stream",
     "text": [
      "\n",
      "TEST WITH DEBUGGING OUTPUT\n",
      "\n",
      "hour step init (T, P, rho, D): -2 [0.0008] 300.0 0.04\n",
      "DENSITY, GAMMA, GAMMA/24: [300.] [0.55] [0.02291667]\n",
      "New rho and D: [293.27970479] [0.04228046]\n",
      "Delta rain melt: [0.]\n",
      "DENSITY, GAMMA: [293.27970479] [0.02291667]\n",
      "Delta melt: [0.]\n",
      "Dstarstar: [0.04228046]\n",
      "Del rho, densification [0.01452327]\n",
      "Hour end rho, D: [293.29422807] [0.04227836]\n",
      "hour step init (T, P, rho, D): -2 [0.0008] 293.2942280668712 0.04227836354547283\n",
      "New rho and D: [286.99349746] [0.04460031]\n",
      "Delta rain melt: [0.]\n",
      "DENSITY, GAMMA: [286.99349746] [0.02291667]\n",
      "Delta melt: [0.]\n",
      "Dstarstar: [0.04460031]\n",
      "Del rho, densification [0.0171074]\n",
      "Hour end rho, D: [287.01060486] [0.04459766]\n",
      "BRASNETT WITH DEBUGGING OUTPUT\n",
      "\n"
     ]
    }
   ],
   "source": [
    "print('\\nTEST WITH DEBUGGING OUTPUT\\n')\n",
    "test_depth, test_density = test(SnowOnSnowCold.T, SnowOnSnowCold.P, SnowOnSnowCold.depth, SnowOnSnowCold.density)\n",
    "\n",
    "T, P, depth, density = SnowOnSnowCold.T, SnowOnSnowCold.P, SnowOnSnowCold.depth, SnowOnSnowCold.density \n",
    "\n",
    "print('BRASNETT WITH DEBUGGING OUTPUT\\n')\n",
    "depth, density, swe = Brasnett([0,0], T, P, depth, density)\n",
    "\n",
    "assert abs(depth - test_depth) < 1e-15\n",
    "assert abs(density - test_density) < 1e-15\n",
    "\n",
    "out_string += '\\nSnowOnSnowCold TEST OK'"
   ]
  },
  {
   "cell_type": "markdown",
   "id": "a649b513-e681-4195-a26d-8e6d776eb56d",
   "metadata": {},
   "source": [
    "## There should be 11 lines (one for each test) printed below with \"TEST OK\"."
   ]
  },
  {
   "cell_type": "code",
   "execution_count": 15,
   "id": "911aa88b-a5c1-4be0-9243-b37e9258294d",
   "metadata": {
    "tags": []
   },
   "outputs": [
    {
     "name": "stdout",
     "output_type": "stream",
     "text": [
      "ControlFreeze TEST OK\n",
      "ControlMelt TEST OK\n",
      "DryCold TEST OK\n",
      "DryWarm TEST OK\n",
      "DryMelt TEST OK\n",
      "SnowCold TEST OK\n",
      "SnowWarm TEST OK\n",
      "RainNoSnow TEST OK\n",
      "RainOnSnow TEST OK\n",
      "SnowOnSnowWarm TEST OK\n",
      "SnowOnSnowCold TEST OK\n"
     ]
    }
   ],
   "source": [
    "print(out_string)"
   ]
  }
 ],
 "metadata": {
  "kernelspec": {
   "display_name": "Python 3 (ipykernel)",
   "language": "python",
   "name": "python3"
  },
  "language_info": {
   "codemirror_mode": {
    "name": "ipython",
    "version": 3
   },
   "file_extension": ".py",
   "mimetype": "text/x-python",
   "name": "python",
   "nbconvert_exporter": "python",
   "pygments_lexer": "ipython3",
   "version": "3.11.6"
  }
 },
 "nbformat": 4,
 "nbformat_minor": 5
}
