{
 "cells": [
  {
   "cell_type": "markdown",
   "id": "73c7b1a6-7b8f-4756-8ba7-3369a3e68760",
   "metadata": {},
   "source": [
    "**Instructions:** You're planning to run the B-TIM for a certain year and forcing. Update CONFIG.py and utils.py appropriately, then run this test. Make sure to edit the ```sys.argv``` variable in the first code cell to the right year and forcing. Then, run the rest of the notebook. \n",
    "\n",
    "If you only have files for some months, change the ```enumerate([8,9,10,11,12,1,2,3,4,5,6,7])``` line to only include the month numbers you have (always have to start from August)."
   ]
  },
  {
   "cell_type": "code",
   "execution_count": 5,
   "id": "d580fb0a-8dbd-4b06-8293-32babc37f4bb",
   "metadata": {
    "tags": []
   },
   "outputs": [],
   "source": [
    "import numpy as np\n",
    "import sys\n",
    "\n",
    "sys.path.append('../')\n",
    "import utils\n",
    "\n",
    "### UPDATE THIS ###\n",
    "sys.argv = [sys.argv[0], '2019', 'ERA5']\n",
    "###################\n",
    "\n",
    "from CONFIG import forcing, data_loc, year\n",
    "\n"
   ]
  },
  {
   "cell_type": "code",
   "execution_count": 7,
   "id": "571f0b86-5a4f-459b-addc-24cc0d443669",
   "metadata": {
    "tags": []
   },
   "outputs": [],
   "source": [
    "try:\n",
    "    files = utils.prepare_filenames(forcing, '../'+data_loc, [year, year+1])\n",
    "except FileNotFoundError:\n",
    "    print('\\n1. Check the \"prepare_filenames\" function in utils.py.\\\n",
    "           \\n2. Ensure the \"data_loc\" variable in utils.py correctly points to the location where your forcing files are stored.\\\n",
    "           \\n3. Check if all monthly files exist for '+str(year)+'-'+str(year+1))\n",
    "    raise\n",
    "    \n",
    "t2m, tp = files[0], files[1]\n",
    "\n",
    "for mi,m in enumerate([8,9,10,11,12,1,2,3,4,5,6,7]):\n",
    "\n",
    "    try:\n",
    "        full_lat, full_lon, t2m_data, tp_data = utils.read_month(m, forcing, t2m[mi], tp[mi])\n",
    "    except OSError:\n",
    "        print(utils.month_names_aug[mi]+' ISSUE: File(s) for this month may not exist.')\n",
    "        raise\n",
    "    except IndexError:\n",
    "        print(utils.month_names_aug[mi]+' ISSUE: Check that the latitude and longitude names set in the \"latname\" and \"lonname\" dictionaries for this dataset match the name in this month\\'s forcing file.')\n",
    "        raise\n",
    "        \n",
    "    ### t2m\n",
    "    time_step = t2m_data['time'][1]-t2m_data['time'][0]\n",
    "    time_freq = 24 // time_step\n",
    "\n",
    "    try:\n",
    "        utils.t2m_freq[forcing]\n",
    "    except KeyError:\n",
    "        print('Add \"'+forcing+': '+str(time_freq)+'\" to the t2m_freq dictionary in \"utils.py\"')\n",
    "        raise\n",
    "    else:\n",
    "        if time_freq != utils.t2m_freq[forcing]:\n",
    "            raise ValueError(utils.month_names_aug[mi]+' ISSUE: The time frequency for this forcing doesn\\'t match expected value. Check for consistency across different months and possibly update the t2m_freq dictionary in \"utils.py\".\\\n",
    "                             \\npIt should say \"'+forcing+': '+str(time_freq)+'\" in the t2m_freq dictionary in \"utils.py\".')\n",
    "\n",
    "    ### tp\n",
    "    time_step = tp_data['time'][1]-tp_data['time'][0]\n",
    "    time_freq = 24 // time_step\n",
    "\n",
    "    try:\n",
    "        utils.tp_freq[forcing]\n",
    "    except KeyError:\n",
    "        print('Add \"'+forcing+': '+str(time_freq)+'\" to the tp_freq dictionary in \"utils.py\"')\n",
    "        raise\n",
    "    else:\n",
    "        if time_freq != utils.tp_freq[forcing]:\n",
    "            raise ValueError(utils.month_names_aug[mi]+' ISSUE: The time frequency for this forcing doesn\\'t match expected value. Check for consistency across different months and possibly update the tp_freq dictionary in \"utils.py\".\\\n",
    "                             \\npIt should say \"'+forcing+': '+str(time_freq)+'\" in the tp_freq dictionary in \"utils.py\".')\n",
    "\n",
    "    ## test read_day\n",
    "    try:\n",
    "        pname = utils.precipname[forcing]\n",
    "    except KeyError:\n",
    "        print('Update the name of the precipitation variable in the \"precipname\" dictionary in utils.py')\n",
    "        raise\n",
    "        \n",
    "    try:\n",
    "        pname = utils.tempname[forcing]\n",
    "    except KeyError:\n",
    "        print('Update the name of the temperature variable in the \"tempname\" dictionary in utils.py')\n",
    "        raise\n",
    "\n",
    "\n",
    "    try:\n",
    "        a = utils.read_day(forcing, t2m_data, 't2m', 0, np.ones_like(full_lat, dtype='bool'), np.ones_like(full_lon, dtype='bool'))    \n",
    "        b = utils.read_day(forcing, tp_data, 'tp', 0, np.ones_like(full_lat, dtype='bool'), np.ones_like(full_lon, dtype='bool'))    \n",
    "    except:\n",
    "        print(utils.month_names_aug[mi]+' ISSUE: check read_day function in \"utils.py\" or this month\\'s file to ensure the data is loading properly.')\n",
    "        raise\n"
   ]
  },
  {
   "cell_type": "code",
   "execution_count": null,
   "id": "0e76b6e3-4362-4695-a3d9-1cf065e8aac5",
   "metadata": {},
   "outputs": [],
   "source": []
  }
 ],
 "metadata": {
  "kernelspec": {
   "display_name": "Python 3 (ipykernel)",
   "language": "python",
   "name": "python3"
  },
  "language_info": {
   "codemirror_mode": {
    "name": "ipython",
    "version": 3
   },
   "file_extension": ".py",
   "mimetype": "text/x-python",
   "name": "python",
   "nbconvert_exporter": "python",
   "pygments_lexer": "ipython3",
   "version": "3.11.6"
  }
 },
 "nbformat": 4,
 "nbformat_minor": 5
}
